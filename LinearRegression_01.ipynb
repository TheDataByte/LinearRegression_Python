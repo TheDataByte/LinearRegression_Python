{
 "cells": [
  {
   "cell_type": "code",
   "execution_count": 98,
   "metadata": {},
   "outputs": [],
   "source": [
    "#import statements\n",
    "\n",
    "import pandas as pd \n",
    "import statsmodels.api as sm \n",
    "import matplotlib.pyplot as plt\n",
    "import warnings\n",
    "warnings.filterwarnings(\"ignore\")\n",
    "\n",
    "#pd for handling csv data, sm for linear regression modeling, matplotlib for plotting results\n",
    "#ignoring warnings for tidier plotting"
   ]
  },
  {
   "cell_type": "code",
   "execution_count": 99,
   "metadata": {},
   "outputs": [
    {
     "data": {
      "text/html": [
       "<div>\n",
       "<style scoped>\n",
       "    .dataframe tbody tr th:only-of-type {\n",
       "        vertical-align: middle;\n",
       "    }\n",
       "\n",
       "    .dataframe tbody tr th {\n",
       "        vertical-align: top;\n",
       "    }\n",
       "\n",
       "    .dataframe thead th {\n",
       "        text-align: right;\n",
       "    }\n",
       "</style>\n",
       "<table border=\"1\" class=\"dataframe\">\n",
       "  <thead>\n",
       "    <tr style=\"text-align: right;\">\n",
       "      <th></th>\n",
       "      <th>Date</th>\n",
       "      <th>Day number</th>\n",
       "      <th>Open</th>\n",
       "      <th>High</th>\n",
       "      <th>Low</th>\n",
       "      <th>Close</th>\n",
       "      <th>Adj Close</th>\n",
       "      <th>Volume</th>\n",
       "    </tr>\n",
       "  </thead>\n",
       "  <tbody>\n",
       "    <tr>\n",
       "      <th>0</th>\n",
       "      <td>3-Jan-22</td>\n",
       "      <td>1</td>\n",
       "      <td>1147.75</td>\n",
       "      <td>1201.07</td>\n",
       "      <td>1136.04</td>\n",
       "      <td>1199.78</td>\n",
       "      <td>1199.78</td>\n",
       "      <td>34643800.0</td>\n",
       "    </tr>\n",
       "    <tr>\n",
       "      <th>1</th>\n",
       "      <td>4-Jan-22</td>\n",
       "      <td>2</td>\n",
       "      <td>1189.55</td>\n",
       "      <td>1208.00</td>\n",
       "      <td>1123.05</td>\n",
       "      <td>1149.59</td>\n",
       "      <td>1149.59</td>\n",
       "      <td>33416100.0</td>\n",
       "    </tr>\n",
       "    <tr>\n",
       "      <th>2</th>\n",
       "      <td>5-Jan-22</td>\n",
       "      <td>3</td>\n",
       "      <td>1146.65</td>\n",
       "      <td>1170.34</td>\n",
       "      <td>1081.01</td>\n",
       "      <td>1088.12</td>\n",
       "      <td>1088.12</td>\n",
       "      <td>26706600.0</td>\n",
       "    </tr>\n",
       "    <tr>\n",
       "      <th>3</th>\n",
       "      <td>6-Jan-22</td>\n",
       "      <td>4</td>\n",
       "      <td>1077.00</td>\n",
       "      <td>1088.00</td>\n",
       "      <td>1020.50</td>\n",
       "      <td>1064.70</td>\n",
       "      <td>1064.70</td>\n",
       "      <td>30112200.0</td>\n",
       "    </tr>\n",
       "    <tr>\n",
       "      <th>4</th>\n",
       "      <td>7-Jan-22</td>\n",
       "      <td>5</td>\n",
       "      <td>1080.37</td>\n",
       "      <td>1080.93</td>\n",
       "      <td>1010.00</td>\n",
       "      <td>1026.96</td>\n",
       "      <td>1026.96</td>\n",
       "      <td>28054900.0</td>\n",
       "    </tr>\n",
       "  </tbody>\n",
       "</table>\n",
       "</div>"
      ],
      "text/plain": [
       "       Date  Day number     Open     High      Low    Close  Adj Close  \\\n",
       "0  3-Jan-22           1  1147.75  1201.07  1136.04  1199.78    1199.78   \n",
       "1  4-Jan-22           2  1189.55  1208.00  1123.05  1149.59    1149.59   \n",
       "2  5-Jan-22           3  1146.65  1170.34  1081.01  1088.12    1088.12   \n",
       "3  6-Jan-22           4  1077.00  1088.00  1020.50  1064.70    1064.70   \n",
       "4  7-Jan-22           5  1080.37  1080.93  1010.00  1026.96    1026.96   \n",
       "\n",
       "       Volume  \n",
       "0  34643800.0  \n",
       "1  33416100.0  \n",
       "2  26706600.0  \n",
       "3  30112200.0  \n",
       "4  28054900.0  "
      ]
     },
     "execution_count": 99,
     "metadata": {},
     "output_type": "execute_result"
    }
   ],
   "source": [
    "#pull in TSLA stock price data as a dataframe and display the first few rows\n",
    "\n",
    "df = pd.read_csv(\"TSLA_stock_prices_ytd.csv\")\n",
    "df.head()\n",
    "\n",
    "#\"Day number\" is a numeric representation of the date for easy data manipulation\n",
    "#(days that the stock market isn't open aren't counted here)"
   ]
  },
  {
   "cell_type": "code",
   "execution_count": 100,
   "metadata": {},
   "outputs": [
    {
     "data": {
      "text/plain": [
       "Date           object\n",
       "Day number      int64\n",
       "Open          float64\n",
       "High          float64\n",
       "Low           float64\n",
       "Close         float64\n",
       "Adj Close     float64\n",
       "Volume        float64\n",
       "dtype: object"
      ]
     },
     "execution_count": 100,
     "metadata": {},
     "output_type": "execute_result"
    }
   ],
   "source": [
    "#check the data types for each column \n",
    "\n",
    "df.dtypes"
   ]
  },
  {
   "cell_type": "code",
   "execution_count": 101,
   "metadata": {},
   "outputs": [],
   "source": [
    "#define x and y for input into the linear regression formula\n",
    "\n",
    "x = df[[\"Day number\"]]\n",
    "y = df[[\"Close\"]]"
   ]
  },
  {
   "cell_type": "code",
   "execution_count": 102,
   "metadata": {},
   "outputs": [],
   "source": [
    "#if you want your trendline to go through the origin (x=0, y=0), you don't need to include this line\n",
    "\n",
    "x = sm.add_constant(x) \n",
    "\n",
    "#TSLA's stock price was not $0/share on day 1 in this dataset (x=1, y=1199.78), so we need to include this \n",
    "#the add_constant() function ensures that the OLS() function calculates values for a constant (b) in the trendline\n"
   ]
  },
  {
   "cell_type": "code",
   "execution_count": 103,
   "metadata": {},
   "outputs": [
    {
     "name": "stdout",
     "output_type": "stream",
     "text": [
      "                            OLS Regression Results                            \n",
      "==============================================================================\n",
      "Dep. Variable:                  Close   R-squared:                       0.347\n",
      "Model:                            OLS   Adj. R-squared:                  0.341\n",
      "Method:                 Least Squares   F-statistic:                     59.60\n",
      "Date:                Thu, 16 Jun 2022   Prob (F-statistic):           5.27e-12\n",
      "Time:                        12:14:28   Log-Likelihood:                -693.64\n",
      "No. Observations:                 114   AIC:                             1391.\n",
      "Df Residuals:                     112   BIC:                             1397.\n",
      "Df Model:                           1                                         \n",
      "Covariance Type:            nonrobust                                         \n",
      "==============================================================================\n",
      "                 coef    std err          t      P>|t|      [0.025      0.975]\n",
      "------------------------------------------------------------------------------\n",
      "const       1028.0436     20.209     50.871      0.000     988.003    1068.085\n",
      "Day number    -2.3549      0.305     -7.720      0.000      -2.959      -1.751\n",
      "==============================================================================\n",
      "Omnibus:                       11.392   Durbin-Watson:                   0.132\n",
      "Prob(Omnibus):                  0.003   Jarque-Bera (JB):                9.189\n",
      "Skew:                           0.595   Prob(JB):                       0.0101\n",
      "Kurtosis:                       2.279   Cond. No.                         133.\n",
      "==============================================================================\n",
      "\n",
      "Notes:\n",
      "[1] Standard Errors assume that the covariance matrix of the errors is correctly specified.\n"
     ]
    }
   ],
   "source": [
    "#fit the model and print a summary of the results\n",
    "\n",
    "model = sm.OLS(y, x).fit()\n",
    "print(model.summary())"
   ]
  },
  {
   "cell_type": "code",
   "execution_count": 104,
   "metadata": {},
   "outputs": [
    {
     "data": {
      "text/plain": [
       "const         1028.043636\n",
       "Day number      -2.354925\n",
       "dtype: float64"
      ]
     },
     "execution_count": 104,
     "metadata": {},
     "output_type": "execute_result"
    }
   ],
   "source": [
    "#pull out the constant (b) and coefficient(m) values for easy reference\n",
    "\n",
    "model.params"
   ]
  },
  {
   "cell_type": "code",
   "execution_count": 82,
   "metadata": {},
   "outputs": [
    {
     "name": "stdout",
     "output_type": "stream",
     "text": [
      "0      1025.688711\n",
      "1      1023.333786\n",
      "2      1020.978861\n",
      "3      1018.623935\n",
      "4      1016.269010\n",
      "          ...     \n",
      "109     769.001867\n",
      "110     766.646942\n",
      "111     764.292017\n",
      "112     761.937091\n",
      "113     759.582166\n",
      "Length: 114, dtype: float64\n"
     ]
    }
   ],
   "source": [
    "#calculate the predicted values for the trendline\n",
    "\n",
    "y_pred = model.predict(x)\n",
    "print(y_pred)\n",
    "\n",
    "#y_pred is a pandas data series"
   ]
  },
  {
   "cell_type": "code",
   "execution_count": 83,
   "metadata": {},
   "outputs": [
    {
     "data": {
      "text/html": [
       "<div>\n",
       "<style scoped>\n",
       "    .dataframe tbody tr th:only-of-type {\n",
       "        vertical-align: middle;\n",
       "    }\n",
       "\n",
       "    .dataframe tbody tr th {\n",
       "        vertical-align: top;\n",
       "    }\n",
       "\n",
       "    .dataframe thead th {\n",
       "        text-align: right;\n",
       "    }\n",
       "</style>\n",
       "<table border=\"1\" class=\"dataframe\">\n",
       "  <thead>\n",
       "    <tr style=\"text-align: right;\">\n",
       "      <th></th>\n",
       "      <th>Date</th>\n",
       "      <th>Day number</th>\n",
       "      <th>Open</th>\n",
       "      <th>High</th>\n",
       "      <th>Low</th>\n",
       "      <th>Close</th>\n",
       "      <th>Adj Close</th>\n",
       "      <th>Volume</th>\n",
       "      <th>Close_Pred</th>\n",
       "    </tr>\n",
       "  </thead>\n",
       "  <tbody>\n",
       "    <tr>\n",
       "      <th>0</th>\n",
       "      <td>3-Jan-22</td>\n",
       "      <td>1</td>\n",
       "      <td>1147.75</td>\n",
       "      <td>1201.07</td>\n",
       "      <td>1136.04</td>\n",
       "      <td>1199.78</td>\n",
       "      <td>1199.78</td>\n",
       "      <td>34643800.0</td>\n",
       "      <td>1025.688711</td>\n",
       "    </tr>\n",
       "    <tr>\n",
       "      <th>1</th>\n",
       "      <td>4-Jan-22</td>\n",
       "      <td>2</td>\n",
       "      <td>1189.55</td>\n",
       "      <td>1208.00</td>\n",
       "      <td>1123.05</td>\n",
       "      <td>1149.59</td>\n",
       "      <td>1149.59</td>\n",
       "      <td>33416100.0</td>\n",
       "      <td>1023.333786</td>\n",
       "    </tr>\n",
       "    <tr>\n",
       "      <th>2</th>\n",
       "      <td>5-Jan-22</td>\n",
       "      <td>3</td>\n",
       "      <td>1146.65</td>\n",
       "      <td>1170.34</td>\n",
       "      <td>1081.01</td>\n",
       "      <td>1088.12</td>\n",
       "      <td>1088.12</td>\n",
       "      <td>26706600.0</td>\n",
       "      <td>1020.978861</td>\n",
       "    </tr>\n",
       "    <tr>\n",
       "      <th>3</th>\n",
       "      <td>6-Jan-22</td>\n",
       "      <td>4</td>\n",
       "      <td>1077.00</td>\n",
       "      <td>1088.00</td>\n",
       "      <td>1020.50</td>\n",
       "      <td>1064.70</td>\n",
       "      <td>1064.70</td>\n",
       "      <td>30112200.0</td>\n",
       "      <td>1018.623935</td>\n",
       "    </tr>\n",
       "    <tr>\n",
       "      <th>4</th>\n",
       "      <td>7-Jan-22</td>\n",
       "      <td>5</td>\n",
       "      <td>1080.37</td>\n",
       "      <td>1080.93</td>\n",
       "      <td>1010.00</td>\n",
       "      <td>1026.96</td>\n",
       "      <td>1026.96</td>\n",
       "      <td>28054900.0</td>\n",
       "      <td>1016.269010</td>\n",
       "    </tr>\n",
       "  </tbody>\n",
       "</table>\n",
       "</div>"
      ],
      "text/plain": [
       "       Date  Day number     Open     High      Low    Close  Adj Close  \\\n",
       "0  3-Jan-22           1  1147.75  1201.07  1136.04  1199.78    1199.78   \n",
       "1  4-Jan-22           2  1189.55  1208.00  1123.05  1149.59    1149.59   \n",
       "2  5-Jan-22           3  1146.65  1170.34  1081.01  1088.12    1088.12   \n",
       "3  6-Jan-22           4  1077.00  1088.00  1020.50  1064.70    1064.70   \n",
       "4  7-Jan-22           5  1080.37  1080.93  1010.00  1026.96    1026.96   \n",
       "\n",
       "       Volume   Close_Pred  \n",
       "0  34643800.0  1025.688711  \n",
       "1  33416100.0  1023.333786  \n",
       "2  26706600.0  1020.978861  \n",
       "3  30112200.0  1018.623935  \n",
       "4  28054900.0  1016.269010  "
      ]
     },
     "execution_count": 83,
     "metadata": {},
     "output_type": "execute_result"
    }
   ],
   "source": [
    "#add y_pred back to your initial dataset for easy comparison\n",
    "\n",
    "df[\"Close_Pred\"] = y_pred\n",
    "df.head()"
   ]
  },
  {
   "cell_type": "code",
   "execution_count": 84,
   "metadata": {},
   "outputs": [
    {
     "data": {
      "image/png": "[encoded data removed]",
      "text/plain": [
       "<Figure size 432x288 with 1 Axes>"
      ]
     },
     "metadata": {
      "needs_background": "light"
     },
     "output_type": "display_data"
    }
   ],
   "source": [
    "#plot the results\n",
    "plt.plot(df[\"Day number\"], df[\"Close\"], label = \"Actual closing prices\")\n",
    "plt.plot(df[\"Day number\"], df[\"Close_Pred\"], label = \"Predicted closing prices with linear fit\")\n",
    "plt.legend()\n",
    "plt.xlabel('Day number')\n",
    "plt.ylabel('Stock price $/share')\n",
    "plt.title('Tesla stock price movement from Jan 3 to June 15, 2022')\n",
    "plt.show()"
   ]
  },
  {
   "cell_type": "code",
   "execution_count": 85,
   "metadata": {},
   "outputs": [],
   "source": [
    "#Although the trend is not linear, there are periods in time that the price movement appears linear. \n",
    "#Let's check that out next!\n"
   ]
  },
  {
   "cell_type": "code",
   "execution_count": 105,
   "metadata": {},
   "outputs": [
    {
     "data": {
      "image/png": "[encoded data removed]",
      "text/plain": [
       "<Figure size 432x288 with 1 Axes>"
      ]
     },
     "metadata": {
      "needs_background": "light"
     },
     "output_type": "display_data"
    }
   ],
   "source": [
    "#Let's filter the dataset to a period which appears pretty linear in the graph above and look at the data visually \n",
    "#Days ~49-63 look pretty linear in the graph above (which correspond to the March 14 - April 1 timeframe)\n",
    "\n",
    "df_filtered = df.loc[(df[\"Day number\"] >= 49) & (df[\"Day number\"] <= 63)].copy()\n",
    "plt.plot(df_filtered[\"Day number\"], df_filtered[\"Close\"], label = \"Actual closing prices\")\n",
    "plt.legend()\n",
    "plt.xlabel('Day number')\n",
    "plt.ylabel('Stock price $/share')\n",
    "plt.title('Tesla stock price movement from March 14 to April 4, 2022')\n",
    "plt.show()"
   ]
  },
  {
   "cell_type": "code",
   "execution_count": 106,
   "metadata": {},
   "outputs": [
    {
     "name": "stdout",
     "output_type": "stream",
     "text": [
      "                            OLS Regression Results                            \n",
      "==============================================================================\n",
      "Dep. Variable:                  Close   R-squared:                       0.926\n",
      "Model:                            OLS   Adj. R-squared:                  0.920\n",
      "Method:                 Least Squares   F-statistic:                     161.9\n",
      "Date:                Thu, 16 Jun 2022   Prob (F-statistic):           1.03e-08\n",
      "Time:                        13:28:28   Log-Likelihood:                -72.215\n",
      "No. Observations:                  15   AIC:                             148.4\n",
      "Df Residuals:                      13   BIC:                             149.8\n",
      "Df Model:                           1                                         \n",
      "Covariance Type:            nonrobust                                         \n",
      "==============================================================================\n",
      "                 coef    std err          t      P>|t|      [0.025      0.975]\n",
      "------------------------------------------------------------------------------\n",
      "const       -392.6873    107.540     -3.652      0.003    -625.014    -160.361\n",
      "Day number    24.3597      1.915     12.723      0.000      20.223      28.496\n",
      "==============================================================================\n",
      "Omnibus:                        0.198   Durbin-Watson:                   0.785\n",
      "Prob(Omnibus):                  0.906   Jarque-Bera (JB):                0.393\n",
      "Skew:                          -0.110   Prob(JB):                        0.822\n",
      "Kurtosis:                       2.238   Cond. No.                         730.\n",
      "==============================================================================\n",
      "\n",
      "Notes:\n",
      "[1] Standard Errors assume that the covariance matrix of the errors is correctly specified.\n"
     ]
    }
   ],
   "source": [
    "#let's repeat the same steps we went through before to create a new linear regression over this period\n",
    "\n",
    "x = df_filtered[[\"Day number\"]]\n",
    "y = df_filtered[[\"Close\"]]\n",
    "x = sm.add_constant(x) \n",
    "model = sm.OLS(y, x).fit()\n",
    "print(model.summary())"
   ]
  },
  {
   "cell_type": "code",
   "execution_count": 88,
   "metadata": {},
   "outputs": [
    {
     "data": {
      "image/png": "[encoded data removed]",
      "text/plain": [
       "<Figure size 432x288 with 1 Axes>"
      ]
     },
     "metadata": {
      "needs_background": "light"
     },
     "output_type": "display_data"
    }
   ],
   "source": [
    "#Isn't that interesting! \n",
    "#The R-squared value is now 0.926 which definitely indicates a linear fit! \n",
    "\n",
    "#plot the results\n",
    "y_pred = model.predict(x)\n",
    "df_filtered[\"Close_Pred\"] = y_pred\n",
    "plt.plot(df_filtered[\"Day number\"], df_filtered[\"Close\"], label = \"Actual closing prices\")\n",
    "plt.plot(df_filtered[\"Day number\"], df_filtered[\"Close_Pred\"], label = \"Predicted closing prices with linear fit\")\n",
    "plt.xlabel('Day number')\n",
    "plt.ylabel('Stock price $/share')\n",
    "plt.title('Tesla stock price movement from March 14 to April 1, 2022')\n",
    "plt.legend()\n",
    "plt.show()"
   ]
  },
  {
   "cell_type": "code",
   "execution_count": 89,
   "metadata": {},
   "outputs": [],
   "source": [
    "#with most datsets, be careful when only looking at part of the dataset!\n",
    "#just like in this example where I show that over a period of almost a month there was a very linear trend in this dataset,\n",
    "#you can find this in other datasets too\n",
    "#make sure you're trying to use as much data possible (within reason) to make your predictions\n",
    "#this is a great example which demonstrates short-term patterns in stock prices\n",
    "#if you catch on to these soon enough, you can profit from these trends, but you need to watch closely and make sure \n",
    "#that you can recognize when the trend isn't holding any more. "
   ]
  },
  {
   "cell_type": "code",
   "execution_count": null,
   "metadata": {},
   "outputs": [],
   "source": []
  },
  {
   "cell_type": "code",
   "execution_count": null,
   "metadata": {},
   "outputs": [],
   "source": []
  }
 ],
 "metadata": {
  "kernelspec": {
   "display_name": "Python 3",
   "language": "python",
   "name": "python3"
  },
  "language_info": {
   "codemirror_mode": {
    "name": "ipython",
    "version": 3
   },
   "file_extension": ".py",
   "mimetype": "text/x-python",
   "name": "python",
   "nbconvert_exporter": "python",
   "pygments_lexer": "ipython3",
   "version": "3.7.4"
  }
 },
 "nbformat": 4,
 "nbformat_minor": 2
}
